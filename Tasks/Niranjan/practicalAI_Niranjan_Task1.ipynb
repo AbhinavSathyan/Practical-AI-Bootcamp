{
  "nbformat": 4,
  "nbformat_minor": 0,
  "metadata": {
    "colab": {
      "name": "practicalAI-Niranjan-Task1.ipynb",
      "provenance": [],
      "authorship_tag": "ABX9TyM25ghJDH1GPmOKtDrK9DkN",
      "include_colab_link": true
    },
    "kernelspec": {
      "name": "python3",
      "display_name": "Python 3"
    },
    "language_info": {
      "name": "python"
    }
  },
  "cells": [
    {
      "cell_type": "markdown",
      "metadata": {
        "id": "view-in-github",
        "colab_type": "text"
      },
      "source": [
        "<a href=\"https://colab.research.google.com/github/itsniranjan/Practical-AI-Bootcamp/blob/main/Tasks/Niranjan/practicalAI_Niranjan_Task1.ipynb\" target=\"_parent\"><img src=\"https://colab.research.google.com/assets/colab-badge.svg\" alt=\"Open In Colab\"/></a>"
      ]
    },
    {
      "cell_type": "code",
      "metadata": {
        "colab": {
          "base_uri": "https://localhost:8080/"
        },
        "id": "hXUq3cYqLYMI",
        "outputId": "2d571ea1-2de4-486a-e5a1-d9b3f6924d02"
      },
      "source": [
        "!pip install tensorflow_text"
      ],
      "execution_count": 1,
      "outputs": [
        {
          "output_type": "stream",
          "text": [
            "Installing collected packages: tensorflow-text\n",
            "Successfully installed tensorflow-text-2.6.0\n"
          ],
          "name": "stdout"
        }
      ]
    },
    {
      "cell_type": "code",
      "metadata": {
        "id": "Scj04HNdLjPg"
      },
      "source": [
        "\n",
        "\n",
        "import tensorflow as tf\n",
        "\n",
        "#import tensorflow_text\n",
        "import tensorflow_text as tf_text\n",
        "\n",
        "directory_url = 'https://storage.googleapis.com/download.tensorflow.org/data/illiad/'\n",
        "file_names = ['cowper.txt', 'derby.txt', 'butler.txt']\n",
        "\n",
        "file_paths = [\n",
        "    tf.keras.utils.get_file(file_name, directory_url + file_name)\n",
        "    for file_name in file_names\n",
        "]\n",
        "\n",
        "dataset = tf.data.TextLineDataset(file_paths)"
      ],
      "execution_count": null,
      "outputs": []
    },
    {
      "cell_type": "code",
      "metadata": {
        "id": "txLkPdyNLofC"
      },
      "source": [
        "#convert to utf8\n",
        "\n",
        "dataset_utf8=map(lambda str:tf_text.normalize_utf8(str), dataset)"
      ],
      "execution_count": 3,
      "outputs": []
    },
    {
      "cell_type": "code",
      "metadata": {
        "id": "JGlhxvZILuIK"
      },
      "source": [
        "for data in dataset_utf8:\n",
        "  print(data.numpy())"
      ],
      "execution_count": null,
      "outputs": []
    }
  ]
}